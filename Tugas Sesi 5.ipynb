{
 "cells": [
  {
   "cell_type": "markdown",
   "id": "aa1d4f98",
   "metadata": {},
   "source": [
    "<h1>BIODATA<H/1>"
   ]
  },
  {
   "cell_type": "code",
   "execution_count": 7,
   "id": "001f6373",
   "metadata": {},
   "outputs": [
    {
     "name": "stdout",
     "output_type": "stream",
     "text": [
      "masukkan nama kamu : Khoirunnissa salsa \n",
      "masukkan tanggal lahir : 08/07/2004\n",
      "masukkan jurusan kamu : Teknik Informatika\n",
      "masukkan kampus kamu : Univesitas Nusa Putra\n",
      "nama : Khoirunnissa salsa \n",
      "Tanggal : 08\n",
      "Bulan : 07\n",
      "tahun : 2004\n",
      "jurusan : Teknik Informatika\n",
      "kampus : Univesitas Nusa Putra\n",
      "inisial : Ks\n"
     ]
    }
   ],
   "source": [
    "nama = input(\"masukkan nama kamu : \")\n",
    "ttl = input(\"masukkan tanggal lahir : \")\n",
    "jurusan = input(\"masukkan jurusan kamu : \")\n",
    "kampus = input(\"masukkan kampus kamu : \")\n",
    "\n",
    "tanggal_lahir = ttl.split('/')\n",
    "inisial = nama.split()\n",
    "\n",
    "print(f\"nama : {nama}\")\n",
    "print(f\"Tanggal : {tanggal_lahir[0]}\")\n",
    "print(f\"Bulan : {tanggal_lahir[1]}\")\n",
    "print(f\"tahun : {tanggal_lahir[2]}\")\n",
    "print(f\"jurusan : {jurusan}\")\n",
    "print(f\"kampus : {kampus}\")\n",
    "print(f\"inisial : {inisial[0][0]}{inisial[1][0]}\")\n"
   ]
  },
  {
   "cell_type": "markdown",
   "id": "b6af34b7",
   "metadata": {},
   "source": [
    "<h1>UNIVERSITAS NUSA PUTRA <h/1>"
   ]
  },
  {
   "cell_type": "code",
   "execution_count": 14,
   "id": "c5023335",
   "metadata": {},
   "outputs": [
    {
     "name": "stdout",
     "output_type": "stream",
     "text": [
      "JAWABAN OPTION A : putra nusa\n",
      "JAWABAN OPTION B : NIVERSITAS NSA PTRA  SUKABUMI\n",
      "JAWABAN OPTION C : SUKABUMI PUTRA NUSA UNIVERSITAS\n",
      "JAWABAN OPTION D : UNPS\n",
      "JAWABAN OPTION E : TAS SAPU BUMI\n"
     ]
    }
   ],
   "source": [
    "kampus = \"UNIVERSITAS NUSA PUTRA SUKABUMI\"\n",
    "\n",
    "a = kampus[17:22].lower()+' '+kampus[12:16].lower()\n",
    "b = kampus[1:11]+' '+kampus[12]+kampus[14:16]+' '+kampus[17]+kampus[19:22]+' '+kampus[22:31].upper()\n",
    "c = kampus[23:31]+' '+kampus[17:22]+' '+kampus[12:16]+' '+kampus[0:11].upper()\n",
    "d = kampus[0]+kampus[12]+kampus[17]+kampus[23].upper()\n",
    "e = kampus[8:11]+' '+kampus[14:16]+kampus[17:19]+' '+kampus[27:31].upper()\n",
    "\n",
    "print(\"JAWABAN OPTION A :\", a)\n",
    "print(\"JAWABAN OPTION B :\", b)\n",
    "print(\"JAWABAN OPTION C :\", c)\n",
    "print(\"JAWABAN OPTION D :\", d)\n",
    "print(\"JAWABAN OPTION E :\", e)"
   ]
  }
 ],
 "metadata": {
  "kernelspec": {
   "display_name": "Python 3 (ipykernel)",
   "language": "python",
   "name": "python3"
  },
  "language_info": {
   "codemirror_mode": {
    "name": "ipython",
    "version": 3
   },
   "file_extension": ".py",
   "mimetype": "text/x-python",
   "name": "python",
   "nbconvert_exporter": "python",
   "pygments_lexer": "ipython3",
   "version": "3.9.12"
  }
 },
 "nbformat": 4,
 "nbformat_minor": 5
}
